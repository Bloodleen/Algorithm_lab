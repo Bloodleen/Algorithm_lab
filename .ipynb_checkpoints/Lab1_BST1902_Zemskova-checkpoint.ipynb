{
 "cells": [
  {
   "cell_type": "markdown",
   "id": "sunset-intro",
   "metadata": {},
   "source": [
    "# Лабораторная работа №1"
   ]
  },
  {
   "cell_type": "markdown",
   "id": "loved-election",
   "metadata": {},
   "source": [
    "## Выполнила студентка группы БСТ1902 Земскова Мария"
   ]
  },
  {
   "cell_type": "markdown",
   "id": "legendary-potter",
   "metadata": {},
   "source": [
    "## Задание №1"
   ]
  },
  {
   "cell_type": "code",
   "execution_count": 23,
   "id": "cognitive-romania",
   "metadata": {},
   "outputs": [
    {
     "name": "stdout",
     "output_type": "stream",
     "text": [
      "Hello world!\n"
     ]
    }
   ],
   "source": [
    "print('Hello world!')"
   ]
  },
  {
   "cell_type": "markdown",
   "id": "miniature-pharmacy",
   "metadata": {},
   "source": [
    "## Задание №2\n",
    "Написать генератор случайных матриц(многомерных), который принимает опциональные параметры m, n, min_limit, max_limit, где m и n указывают размер матрицы, а min_lim и max_lim - минимальное и максимальное значение для генерируемого числа. По умолчанию при отсутствии параметров принимать следующие значения: m = 50 n = 50 min_limit = -250 max_limit = 1000 + (номер своего варианта)"
   ]
  },
  {
   "cell_type": "code",
   "execution_count": 24,
   "id": "foreign-bicycle",
   "metadata": {},
   "outputs": [],
   "source": [
    "import random\n",
    "def random_matrix(m = 50, n = 50, min_limit = -250, max_limit = 1004):\n",
    "    return [[random.randint(min_limit, max_limit) for _ in range(n)] for _ in range(m)]"
   ]
  },
  {
   "cell_type": "markdown",
   "id": "regular-pressing",
   "metadata": {},
   "source": [
    "## Задание №3\n",
    "Реализовать методы сортировки строк числовой матрицы в соответствии с заданием. Оценить время работы каждого алгоритма сортировки и сравнить его со временем стандартной функции сортировки. Испытания проводить на сгенерированных матрицах."
   ]
  },
  {
   "cell_type": "markdown",
   "id": "demographic-membrane",
   "metadata": {},
   "source": [
    "## Сортировка выбором:\n"
   ]
  },
  {
   "cell_type": "code",
   "execution_count": 25,
   "id": "viral-appliance",
   "metadata": {},
   "outputs": [],
   "source": [
    "def selections(arr):\n",
    "    for i, e in enumerate(arr):\n",
    "        mn = min(range(i, len(arr)), key=arr.__getitem__)\n",
    "        arr[i], arr[mn] = arr[mn], e\n",
    "    return arr"
   ]
  },
  {
   "cell_type": "markdown",
   "id": "interesting-agenda",
   "metadata": {},
   "source": [
    "## Сортировка вставкой:"
   ]
  },
  {
   "cell_type": "code",
   "execution_count": 26,
   "id": "figured-french",
   "metadata": {},
   "outputs": [],
   "source": [
    "def insert(arr):\n",
    "    for i in range(1, len(arr)):\n",
    "        key = arr[i]\n",
    "        j = i - 1\n",
    "        while j >= 0 and arr[j] > key:\n",
    "            arr[j + 1] = arr[j]\n",
    "            j -= 1\n",
    "        arr[j + 1] = key"
   ]
  },
  {
   "cell_type": "markdown",
   "id": "effective-trance",
   "metadata": {},
   "source": [
    "## Сортировка обменом:"
   ]
  },
  {
   "cell_type": "code",
   "execution_count": 27,
   "id": "alert-deputy",
   "metadata": {},
   "outputs": [],
   "source": [
    "def bubbles(arr):\n",
    "    for i in range(len(arr)):\n",
    "        for j in range(0, len(arr)-i-1): \n",
    "            if arr[j] > arr[j+1] : \n",
    "                arr[j], arr[j+1] = arr[j+1], arr[j]"
   ]
  },
  {
   "cell_type": "markdown",
   "id": "valued-assessment",
   "metadata": {},
   "source": [
    "## Сортировка Шелла:"
   ]
  },
  {
   "cell_type": "code",
   "execution_count": 28,
   "id": "common-limitation",
   "metadata": {},
   "outputs": [],
   "source": [
    "def shells(arr):\n",
    "    last_index = len(arr) - 1\n",
    "    step = len(arr) // 2\n",
    "    while step > 0:\n",
    "        for i in range(step, last_index + 1, 1):\n",
    "            j = i\n",
    "            delta = j - step\n",
    "            while delta >= 0 and arr[delta] > arr[j]:\n",
    "                arr[delta], arr[j] = arr[j], arr[delta]\n",
    "                j = delta\n",
    "                delta = j - step\n",
    "        step //= 2"
   ]
  },
  {
   "cell_type": "markdown",
   "id": "specialized-weapon",
   "metadata": {},
   "source": [
    "## Быстрая сортировка"
   ]
  },
  {
   "cell_type": "code",
   "execution_count": 29,
   "id": "frank-tracy",
   "metadata": {},
   "outputs": [],
   "source": [
    "def quick(arr, first=0, last=None):\n",
    "    if last == None:\n",
    "        last = len(arr) - 1\n",
    "        \n",
    "    if first >= last:\n",
    "        return\n",
    " \n",
    "    i, j = first, last\n",
    "    pivot = arr[(last + first) // 2]\n",
    " \n",
    "    while i <= j:\n",
    "        while arr[i] < pivot: i += 1\n",
    "        while arr[j] > pivot: j -= 1\n",
    "        if i <= j:\n",
    "            arr[i], arr[j] = arr[j], arr[i]\n",
    "            i, j = i + 1, j - 1\n",
    "            \n",
    "    quick(arr, first, j)\n",
    "    quick(arr, i, last)"
   ]
  },
  {
   "cell_type": "markdown",
   "id": "alternative-warren",
   "metadata": {},
   "source": [
    "## Турнирная сортировка:"
   ]
  },
  {
   "cell_type": "code",
   "execution_count": 30,
   "id": "theoretical-appeal",
   "metadata": {},
   "outputs": [],
   "source": [
    "def tournaments(arr):\n",
    "    tree = [None] * 2 * (len(arr) + len(arr) % 2)\n",
    "    index = len(tree) - len(arr) - len(arr) % 2\n",
    "    \n",
    "    for i, v in enumerate(arr):\n",
    "        tree[index + i] = (i, v)\n",
    "    \n",
    "    for j in range(len(arr)):\n",
    "        n = len(arr)\n",
    "        index = len(tree) - len(arr) - len(arr) % 2\n",
    "        while index > -1:\n",
    "            n = (n + 1) // 2\n",
    "            for i in range(n):\n",
    "                i = max(index + i * 2, 1) # на последней итерация index + i * 2 = 0\n",
    "                if tree[i] != None and tree[i + 1] != None:\n",
    "                    if tree[i][1] < tree[i + 1][1]:\n",
    "                        tree[i // 2] = tree[i]\n",
    "                    else:\n",
    "                        tree[i // 2] = tree[i + 1]\n",
    "                else:\n",
    "                    tree[i // 2] = tree[i] if tree[i] != None else tree[i + 1]\n",
    "            index -= n\n",
    "\n",
    "        index, x = tree[0]\n",
    "        arr[j] = x\n",
    "        tree[len(tree) - len(arr) - len(arr) % 2 + index] = None"
   ]
  },
  {
   "cell_type": "markdown",
   "id": "numeric-remains",
   "metadata": {},
   "source": [
    "## Пирамидальная сортировка:"
   ]
  },
  {
   "cell_type": "code",
   "execution_count": 31,
   "id": "comprehensive-thought",
   "metadata": {},
   "outputs": [],
   "source": [
    "def heapify(arr, n, i):\n",
    "    largest = i\n",
    "    l = 2 * i + 1\n",
    "    r = 2 * i + 2\n",
    "    if l < n and arr[i] < arr[l]:\n",
    "        largest = l\n",
    "    if r < n and arr[largest] < arr[r]:\n",
    "        largest = r\n",
    "    if largest != i:\n",
    "        arr[i], arr[largest] = arr[largest], arr[i]\n",
    "        heapify(arr, n, largest)\n",
    "        \n",
    "def heaps(arr):\n",
    "    n = len(arr)\n",
    "    for i in range(n, -1, -1):\n",
    "        heapify(arr, n, i)\n",
    "    for i in range(n-1, 0, -1):\n",
    "        arr[i], arr[0] = arr[0], arr[i]\n",
    "        heapify(arr, i, 0)"
   ]
  },
  {
   "cell_type": "markdown",
   "id": "complicated-single",
   "metadata": {},
   "source": [
    "## Время работы алгоритмов"
   ]
  },
  {
   "cell_type": "code",
   "execution_count": 32,
   "id": "dangerous-paragraph",
   "metadata": {},
   "outputs": [
    {
     "name": "stdout",
     "output_type": "stream",
     "text": [
      "Алгоритм                      Время\n",
      "-----------------------------------\n",
      "Встроенная сортирока          7.815999999820633e-06\n",
      "Сортировка вставкой           0.00030954399999927773\n",
      "Cортировка Шелла              0.0015327839999986282\n",
      "Быстрая сортировка            0.0017479539999999362\n",
      "Пирамидальная сортировка      0.0034044620000008765\n",
      "Сортировка выбором            0.01734519999999975\n",
      "Сортировка обменом            0.04673552599999994\n",
      "Турнирная сортировка          0.4898412299999995\n"
     ]
    }
   ],
   "source": [
    "import random\n",
    "import time\n",
    "\n",
    "SORT_FUNCTIONS = {\n",
    "    'Сортировка выбором': selections,\n",
    "    'Сортировка вставкой': insert,\n",
    "    'Сортировка обменом': bubbles,\n",
    "    'Cортировка Шелла': shells,\n",
    "    'Быстрая сортировка': quick,\n",
    "    'Турнирная сортировка': tournaments,\n",
    "    'Пирамидальная сортировка': heaps,\n",
    "    'Встроенная сортирока': sorted\n",
    "}\n",
    "\n",
    "def print_comparison(comparison):\n",
    "    largest_name_len = len(max(comparison.keys(), key=len))\n",
    "    largest_name_len += 6\n",
    "\n",
    "    heading = 'Алгоритм'.ljust(largest_name_len) + 'Время'\n",
    "    print(heading)\n",
    "    print('-' * len(heading))\n",
    "    for algo, time_taken in comparison.items():\n",
    "        print(f'{algo:<{largest_name_len}}{time_taken}')\n",
    "\n",
    "time_taken = {}\n",
    "samples = random_matrix(50, 1000)\n",
    "samplen = len(samples)\n",
    "for algo_name, sorter in SORT_FUNCTIONS.items():\n",
    "    samples_copy = samples.copy()\n",
    "    start = time.perf_counter()\n",
    "    for sample in samples_copy:\n",
    "        sorter(sample)\n",
    "    end = time.perf_counter()\n",
    "\n",
    "    time_taken[algo_name] = (end - start) / samplen\n",
    "\n",
    "time_taken_sorted = dict(sorted(time_taken.items(), key=lambda kv: kv[1]))\n",
    "print_comparison(time_taken_sorted)"
   ]
  },
  {
   "cell_type": "code",
   "execution_count": null,
   "id": "agricultural-czech",
   "metadata": {},
   "outputs": [],
   "source": []
  }
 ],
 "metadata": {
  "kernelspec": {
   "display_name": "Python 3",
   "language": "python",
   "name": "python3"
  },
  "language_info": {
   "codemirror_mode": {
    "name": "ipython",
    "version": 3
   },
   "file_extension": ".py",
   "mimetype": "text/x-python",
   "name": "python",
   "nbconvert_exporter": "python",
   "pygments_lexer": "ipython3",
   "version": "3.9.1"
  }
 },
 "nbformat": 4,
 "nbformat_minor": 5
}
