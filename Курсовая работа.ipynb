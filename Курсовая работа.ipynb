{
 "cells": [
  {
   "cell_type": "markdown",
   "id": "minimal-power",
   "metadata": {},
   "source": [
    "# Курсовая работа по дисциплине СИАОД"
   ]
  },
  {
   "cell_type": "markdown",
   "id": "intense-center",
   "metadata": {},
   "source": [
    "### Группа БСТ1902 Земскова М.К."
   ]
  },
  {
   "cell_type": "markdown",
   "id": "warming-inclusion",
   "metadata": {},
   "source": [
    "## Задание №1. \"Шарики и стрелы\""
   ]
  },
  {
   "cell_type": "markdown",
   "id": "fitted-postage",
   "metadata": {},
   "source": [
    "Некоторые сферические шарики распределены по двухмерному пространству. Для каждого шарика даны x-координаты начала и конца его горизонтального диаметра. Так как пространство двумерно, то y-координаты не имеют значения в данной задаче. Координата xstart всегда меньше xend.\n",
    "Стрелу можно выстрелить строго вертикально (вдоль y-оси) из разных точек x-оси. Шарик с координатами xstart и xend уничтожается стрелой, если она была выпущена из такой позиции x, что xstart ⩽ x ⩽ xend. Когда стрела выпущена, она летит в пространстве бесконечное время (уничтожая все шарики на пути).\n",
    "Дан массив points, где points[i] = [xstart, xend]. Напишите функцию, возвращающую минимальное количество стрел, которые нужно выпустить, чтобы уничтожить все шарики."
   ]
  },
  {
   "cell_type": "code",
   "execution_count": 1,
   "id": "funded-hundred",
   "metadata": {},
   "outputs": [
    {
     "name": "stdout",
     "output_type": "stream",
     "text": [
      "Задача 1. «Шарики и стрелы»\n",
      "Введите массив или None: [[1,2],[2,3],[3,4],[4,5]]\n",
      "2\n"
     ]
    }
   ],
   "source": [
    "import random as rnd\n",
    "import copy\n",
    "\n",
    "def getMatr(m,n,a,b):\n",
    "    arr = [[rnd.randint(a,b) for j in range(n)] for i in range(m)]\n",
    "    l = m - 1\n",
    "    for i in range (m - 1):\n",
    "        arr[i] = sorted(arr[i])\n",
    "    return arr\n",
    "\n",
    "def number(arr, x1, x2):\n",
    "    if (arr[x2][0] > arr[x1][1]) or (arr[x2][1] < arr[x1][0]): return 1\n",
    "    else: return 0\n",
    "    \n",
    "def baloons_and_arrows(lst = None):\n",
    "    arr = getMatr(5, 2, -2 ** 31, (2 ** 31) - 1) if lst == None else copy.deepcopy(lst)\n",
    "    if lst == None: print(arr)\n",
    "    num = 1\n",
    "    if len(arr) != 1:\n",
    "        for i in range(len(arr) - 1):\n",
    "            for k in range(len(arr) - 1):\n",
    "                num += number(arr, 0, k)\n",
    "                if number(arr, 0, k) == 1: break\n",
    "            arr.pop(0)\n",
    "    return num\n",
    "    \n",
    "if __name__ == \"__main__\":\n",
    "    print(\"Задача 1. «Шарики и стрелы»\")\n",
    "    x = input(\"Введите массив или None: \")\n",
    "    t = eval(x)\n",
    "    print(baloons_and_arrows(t))"
   ]
  },
  {
   "cell_type": "markdown",
   "id": "juvenile-effort",
   "metadata": {},
   "source": [
    "## Задание №2. Объединение отрезков"
   ]
  },
  {
   "cell_type": "markdown",
   "id": "awful-adaptation",
   "metadata": {},
   "source": [
    "Дан массив отрезков intervals, в котором intervals[i] = [starti, endi], некоторые\n",
    "отрезки могут пересекаться. Напишите функцию, которая объединяет все пересекающиеся от\u0002резки в один и возвращает новый массив непересекающихся отрезков.\n"
   ]
  },
  {
   "cell_type": "code",
   "execution_count": 2,
   "id": "polyphonic-scheme",
   "metadata": {},
   "outputs": [
    {
     "name": "stdout",
     "output_type": "stream",
     "text": [
      "Задача. «Объединение отрезков»\n",
      "Введите массив или None:  [[1,3],[2,6],[8,10],[15,18]]\n",
      "[[1, 6], [8, 10], [15, 18]]\n"
     ]
    }
   ],
   "source": [
    "import random as rnd\n",
    "import copy\n",
    "\n",
    "def getMatr(m,n,a,b):\n",
    "    arr = [[rnd.randint(a,b) for j in range(n)] for i in range(m)]\n",
    "    l = m - 1\n",
    "    for i in range(m):\n",
    "        arr[i].sort()\n",
    "    return arr\n",
    "\n",
    "def crosses(x,y):\n",
    "    return x[1] >= y[0]\n",
    "    \n",
    "def intervals(lst = None):\n",
    "    arr = getMatr(5, 2, 0, 10 ** 4) if lst == None else copy.deepcopy(lst)\n",
    "    if lst == None: print(arr)\n",
    "    arr.sort()\n",
    "    ret = []\n",
    "    while len(arr) > 1:\n",
    "        if crosses(arr[0],arr[1]):\n",
    "            arr[0][1] = max(arr[1][1],arr[0][1])\n",
    "            arr.pop(1)\n",
    "        else:\n",
    "            ret.append(arr.pop(0))\n",
    "    ret.append(arr.pop(0))\n",
    "    return ret\n",
    "    \n",
    "    \n",
    "if __name__ == \"__main__\":\n",
    "    print(\"Задача. «Объединение отрезков»\")\n",
    "    x = input(\"Введите массив или None: \")\n",
    "    t = eval(x)\n",
    "    print(intervals(t))\n"
   ]
  },
  {
   "cell_type": "markdown",
   "id": "macro-frederick",
   "metadata": {},
   "source": [
    "## Задание №3. "
   ]
  },
  {
   "cell_type": "markdown",
   "id": "young-clinic",
   "metadata": {},
   "source": [
    "### Задача 1. «Треугольник с максимальным периметром»"
   ]
  },
  {
   "cell_type": "markdown",
   "id": "native-dollar",
   "metadata": {},
   "source": [
    "Массив A состоит из целых положительных чисел длин отрезков. Составьте из трех отрезков такой треугольник, чтобы его периметр был максимально возможным. Если невозможно составить треугольник с положительной площадью функция возвращает 0."
   ]
  },
  {
   "cell_type": "markdown",
   "id": "conservative-backing",
   "metadata": {},
   "source": [
    "### Задача 2. «Максимальное число»"
   ]
  },
  {
   "cell_type": "markdown",
   "id": "administrative-fifth",
   "metadata": {},
   "source": [
    "Дан массив неотрицательных целых чисел nums. Расположите их в таком порядке, чтобы вместе они образовали максимально возможное число.\n",
    "Замечание: Результат может быть очень большим числом, поэтому представьте его как string, а не integer."
   ]
  },
  {
   "cell_type": "markdown",
   "id": "canadian-costume",
   "metadata": {},
   "source": [
    "### Задача 3. «Сортировка диагоналей в матрице»"
   ]
  },
  {
   "cell_type": "markdown",
   "id": "constant-adoption",
   "metadata": {},
   "source": [
    "Дана матрица mat размером m * n, значения  целочисленные. Напишите функцию, сортирующую каждую диагональ матрицы по возрастанию и возвращающую получившуюся матрицу"
   ]
  },
  {
   "cell_type": "code",
   "execution_count": 3,
   "id": "prompt-updating",
   "metadata": {},
   "outputs": [
    {
     "name": "stdout",
     "output_type": "stream",
     "text": [
      "Задание №1\n",
      "Введите массив или None: [3,2,3,4]\n",
      "10\n",
      "Задание №2\n",
      "Введите массив или None: [3,30,34,5,9]\n",
      "9534330\n",
      "Задание №3\n",
      "Введите матрицу или None:  [[3, 3, 1, 1], [2, 2, 1, 2], [1, 1, 1, 2]]\n",
      "[[1, 1, 1, 1], [1, 2, 2, 2], [1, 2, 3, 3]]\n"
     ]
    }
   ],
   "source": [
    "import random\n",
    "import math\n",
    "import copy\n",
    "\n",
    "def gA_1(size):\n",
    "    if size < 3: size = 3\n",
    "    elif size > 10000: size = 10000\n",
    "    arr = []\n",
    "    for i in range(size):\n",
    "        arr.append(random.randint(1, 10 ** 6))\n",
    "    return arr\n",
    "\n",
    "def gA_2(size):\n",
    "    if size < 1: size = 1\n",
    "    elif size > 100: size = 100\n",
    "    arr = []\n",
    "    for i in range(size):\n",
    "        arr.append(random.randint(0, 10 ** 9))\n",
    "    return arr\n",
    "\n",
    "def tP(a,b,c):\n",
    "    P = a + b + c\n",
    "    return P\n",
    "\n",
    "def ex_1(lst = None, size = 10):\n",
    "    arr = gA_1(size) if lst == None else lst\n",
    "    arr.sort(reverse=True)\n",
    "    i = -1\n",
    "    while True:\n",
    "        i += 1\n",
    "        if (i > len(arr) - 3 or arr[i] < arr[i + 1] + arr[i + 2]): break\n",
    "    if lst == None: print(arr)\n",
    "    return 0 if i == len(arr) - 2 else tP(arr[i],arr[i + 1],arr[i + 2])\n",
    "\n",
    "def smr(str1, str2):\n",
    "    k = min(len(str1),len(str2))\n",
    "    for i in range(k):\n",
    "        if str1[i] > str2[i]: return True\n",
    "        if str1[i] < str2[i]: return False\n",
    "    if len(str1) == len(str2): return False\n",
    "    if len(str1) < len(str2):\n",
    "        if str2[k] > str1[0]: return False\n",
    "        return True\n",
    "    if str1[k] > str2[0]: return True\n",
    "    return False\n",
    "\n",
    "def ex_2(lst = None, size = 10):\n",
    "    arr = gA_2(size) if lst == None else lst\n",
    "    starr = [str(i) for i in arr]\n",
    "    ret = \"\"\n",
    "    while (len(starr) > 1):\n",
    "        popi = 0\n",
    "        for i, e in enumerate(starr):\n",
    "            if smr(e,starr[popi]):\n",
    "                popi = i\n",
    "        ret += starr.pop(popi) \n",
    "    ret += starr.pop(0)\n",
    "    if lst == None: print(arr)\n",
    "    return ret\n",
    "\n",
    "def getMatr(m,n,a,b):\n",
    "    return [[random.randint(a,b) for j in range(n)] for i in range(m)]\n",
    "\n",
    "def getDiag(x,ind):\n",
    "    r = len(x)\n",
    "    c = len(x[0])\n",
    "    ret = []\n",
    "    for i in range(r):\n",
    "        if (ind + i > -1) and (ind + i < c):\n",
    "            ret.append(x[i][ind + i])\n",
    "    return ret\n",
    "\n",
    "def setDiag(x,ind,a):\n",
    "    r = len(x)\n",
    "    c = len(x[0])\n",
    "    for i in range(r):\n",
    "        if (ind + i > -1) and (ind + i < c):\n",
    "            x[i][ind + i] = a.pop(0)\n",
    "\n",
    "def ex_3(lst = None, m = 5, n = 7):\n",
    "    arr = getMatr(m,n,1,100) if lst == None else copy.deepcopy(lst)\n",
    "    if lst == None: print(arr)\n",
    "    for i in range(-m+1,n):\n",
    "        t = getDiag(arr,i)\n",
    "        t.sort()\n",
    "        setDiag(arr,i,t)\n",
    "    return arr\n",
    "    \n",
    "if __name__ == \"__main__\":\n",
    "    \n",
    "    print(\"Задание №1\")\n",
    "    x = input(\"Введите массив или None: \")\n",
    "    t = eval(x)\n",
    "    print(ex_1(t))\n",
    "    print(\"Задание №2\")\n",
    "    x = input(\"Введите массив или None: \")\n",
    "    t = eval(x)\n",
    "    print(ex_2(t))\n",
    "    \n",
    "    print(\"Задание №3\")\n",
    "    x = input(\"Введите матрицу или None: \")\n",
    "    t = eval(x)\n",
    "    print(ex_3(t))"
   ]
  },
  {
   "cell_type": "markdown",
   "id": "funded-talent",
   "metadata": {},
   "source": [
    "## Задание №4. «Стопки монет»"
   ]
  },
  {
   "cell_type": "markdown",
   "id": "latest-diploma",
   "metadata": {},
   "source": [
    "На столе стоят 3n стопок монет. Вы и ваши друзья Алиса и Боб забираете стопки монет по\n",
    "следующему алгоритму:\n",
    "1. Вы выбираете 3 стопки монет из оставшихся на столе.\n",
    "2. Алиса забирает себе стопку с максимальным количеством монет.\n",
    "3. Вы забираете одну из двух оставшихся стопок.\n",
    "4. Боб забирает последнюю стопку.\n",
    "5. Если еще остались стопки, то действия повторяются с первого шага.\n",
    "Дан массив целых положительных чисел piles. Напишите функцию, возвращающую макси\u0002мальное число монет, которое вы можете получить."
   ]
  },
  {
   "cell_type": "code",
   "execution_count": 4,
   "id": "devoted-implement",
   "metadata": {},
   "outputs": [
    {
     "name": "stdout",
     "output_type": "stream",
     "text": [
      "Задача 1. «Стопки монет»\n",
      "Введите массив или None:  [9,8,7,6,5,1,2,3,4]\n",
      "18\n"
     ]
    }
   ],
   "source": [
    "import random as rnd\n",
    "\n",
    "def getArr(m,a,b):\n",
    "    return [rnd.randint(a,b) for i in range(m*3)]\n",
    "\n",
    "def iteration(arr):\n",
    "    arr.remove(max(arr))\n",
    "    arr.remove(min(arr))\n",
    "    t = max(arr)\n",
    "    arr.remove(t)\n",
    "    return t\n",
    "    \n",
    "def coins(lst = None):\n",
    "    arr = getMatr(5, 1, 10 ** 4) if lst == None else lst.copy()\n",
    "    if lst == None: print(arr)\n",
    "    ret = 0\n",
    "    while (len(arr) > 0):\n",
    "        ret += iteration(arr)\n",
    "    return ret\n",
    " \n",
    "if __name__ == \"__main__\":\n",
    "    print(\"Задача 1. «Стопки монет»\")\n",
    "    x = input(\"Введите массив или None: \")\n",
    "    t = eval(x)\n",
    "    print(coins(t))"
   ]
  },
  {
   "cell_type": "markdown",
   "id": "verified-clinton",
   "metadata": {},
   "source": [
    "### Вывод"
   ]
  },
  {
   "cell_type": "markdown",
   "id": "offensive-sunday",
   "metadata": {},
   "source": [
    "В ходе курсовой работы мы научились решать различные задачи в языке программирования Python 3 и закрепили знания, полученные ходе лабораторных работ и практических занятий."
   ]
  }
 ],
 "metadata": {
  "kernelspec": {
   "display_name": "Python 3",
   "language": "python",
   "name": "python3"
  },
  "language_info": {
   "codemirror_mode": {
    "name": "ipython",
    "version": 3
   },
   "file_extension": ".py",
   "mimetype": "text/x-python",
   "name": "python",
   "nbconvert_exporter": "python",
   "pygments_lexer": "ipython3",
   "version": "3.9.1"
  }
 },
 "nbformat": 4,
 "nbformat_minor": 5
}
